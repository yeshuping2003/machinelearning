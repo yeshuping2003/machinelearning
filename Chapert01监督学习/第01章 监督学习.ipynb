{
 "cells": [
  {
   "cell_type": "markdown",
   "metadata": {
    "scrolled": true
   },
   "source": [
    "# 《Python 机器学习经典实例 Python Machine Learning Cookbook》\n",
    "## https://github.com/packtpublishing/python-machine-learning-cookbook"
   ]
  },
  {
   "cell_type": "markdown",
   "metadata": {},
   "source": [
    "## 1.2.2　详细步骤\n",
    "数据可以通过许多技术进行预处理，接下来将介绍一些最常用的预处理技术。"
   ]
  },
  {
   "cell_type": "code",
   "execution_count": 1,
   "metadata": {},
   "outputs": [],
   "source": [
    "#preprocessing.py\n",
    "# 1.2 数据预处理\n",
    "import numpy as np\n",
    "from sklearn import preprocessing\n",
    "# 导入预处理模块\n",
    "data = np.array([[ 3, -1.5,  2, -5.4],\n",
    "                 [ 0,  4,  -0.3, 2.1],\n",
    "                 [ 1,  3.3, -1.9, -4.3]])"
   ]
  },
  {
   "cell_type": "markdown",
   "metadata": {
    "scrolled": true
   },
   "source": [
    "### 1.均值移出 mean removal\n",
    "### 标准化\n",
    "移出特征平均值，保证特征值为0(标准化) 以消除特征间的偏差(bias)\n",
    "\n",
    "通常我们会把每个特征的平均值移除，以保证特征均值为0（即标准化处理）。\n",
    "这样做可以消除特征彼此间的偏差（bias）"
   ]
  },
  {
   "cell_type": "code",
   "execution_count": 2,
   "metadata": {},
   "outputs": [
    {
     "name": "stdout",
     "output_type": "stream",
     "text": [
      "Mean = [ 5.55111512e-17 -1.11022302e-16 -7.40148683e-17 -7.40148683e-17]\n",
      "Std deviation = [1. 1. 1. 1.]\n"
     ]
    }
   ],
   "source": [
    "data_standardized = preprocessing.scale(data)\n",
    "# 对数据data使用预处理模块/将data装入模块，赋给方法对象变量。\n",
    "# 这个对象变量是包含着数据data的一段函数程序，指定程序里的子程序(函数)\n",
    "# 并且代入参数，就可以返回计算的结果。\n",
    "print (\"Mean =\", data_standardized.mean(axis=0))\n",
    "# 显示方法的某个方法：数据_标准化方法的平均值。axis=0 沿着列向计算。\n",
    "print (\"Std deviation =\", data_standardized.std(axis=0))\n",
    "# 显示方法的某个方法：数据_标准化方法的标准差。\n",
    "#显示特征均值几乎为0，标准差为1。"
   ]
  },
  {
   "cell_type": "code",
   "execution_count": 6,
   "metadata": {},
   "outputs": [],
   "source": [
    "?preprocessing.scale()\n"
   ]
  },
  {
   "cell_type": "markdown",
   "metadata": {
    "scrolled": true
   },
   "source": [
    "### 2.范围缩放 min max scaling\n",
    "\n",
    "数据点的每个特征值范围变化可能很大，将其缩放到合理很重要\n",
    "\n",
    "数据点中每个特征的数值范围可能变化很大，因此，\n",
    "有时将特征的数值范围缩放到合理的大小是非常重要的"
   ]
  },
  {
   "cell_type": "code",
   "execution_count": 3,
   "metadata": {},
   "outputs": [
    {
     "name": "stdout",
     "output_type": "stream",
     "text": [
      "Min max scaled data:\n",
      " [[1.         0.         1.         0.        ]\n",
      " [0.         1.         0.41025641 1.        ]\n",
      " [0.33333333 0.87272727 0.         0.14666667]]\n"
     ]
    }
   ],
   "source": [
    "data_scaler = preprocessing.MinMaxScaler(feature_range=(0, 1))\n",
    "#先将模块赋值给变量\n",
    "data_scaled = data_scaler.fit_transform(data)\n",
    "#再对数据使用模块里的方法\n",
    "print (\"Min max scaled data:\\n\", data_scaled)"
   ]
  },
  {
   "cell_type": "markdown",
   "metadata": {},
   "source": [
    "范围缩放之后，所有数据点的特征数值都位于指定的数值范围内。feature_range=(0, 1)"
   ]
  },
  {
   "cell_type": "markdown",
   "metadata": {
    "scrolled": true
   },
   "source": [
    "### 3.归一化  normalization\n",
    "调整特征向量的值，保证每个特征向量值都缩放到相同范围。\n",
    "机器学习常用归一化形式是将特征向量调整为L1范数，使特征向量值之和=1。"
   ]
  },
  {
   "cell_type": "code",
   "execution_count": 4,
   "metadata": {},
   "outputs": [
    {
     "name": "stdout",
     "output_type": "stream",
     "text": [
      "L1 normalized data:\n",
      " [[ 0.25210084 -0.12605042  0.16806723 -0.45378151]\n",
      " [ 0.          0.625      -0.046875    0.328125  ]\n",
      " [ 0.0952381   0.31428571 -0.18095238 -0.40952381]]\n"
     ]
    }
   ],
   "source": [
    "data_normalized = preprocessing.normalize(data, norm='l1')\n",
    "print (\"L1 normalized data:\\n\", data_normalized)"
   ]
  },
  {
   "cell_type": "markdown",
   "metadata": {},
   "source": [
    "这个方法经常用于确保数据点没有因为特征的基本性质而产生较大差异，\n",
    "即确保数据处于同一数量级，提高不同特征数据的可比性。"
   ]
  },
  {
   "cell_type": "markdown",
   "metadata": {
    "scrolled": true
   },
   "source": [
    "### 4.二值化  binarization\n",
    "二值化用于将数值特征向量转换为布尔类型向量。"
   ]
  },
  {
   "cell_type": "code",
   "execution_count": 5,
   "metadata": {},
   "outputs": [
    {
     "name": "stdout",
     "output_type": "stream",
     "text": [
      "\n",
      "Binarized data:\n",
      " [[1. 0. 1. 0.]\n",
      " [0. 1. 0. 1.]\n",
      " [0. 1. 0. 0.]]\n"
     ]
    }
   ],
   "source": [
    "data_binarized = preprocessing.Binarizer(threshold=1.4).transform(data)\n",
    "print (\"\\nBinarized data:\\n\", data_binarized)"
   ]
  },
  {
   "cell_type": "markdown",
   "metadata": {},
   "source": [
    "如果事先已经对数据有了一定的了解，就会发现使用这个技术的好处了。"
   ]
  },
  {
   "cell_type": "markdown",
   "metadata": {
    "scrolled": true
   },
   "source": [
    "### 5.独热编码  one hot encoding\n",
    "通常，需要处理的数值都是稀疏地、散乱地分布在空间中，\n",
    "然而，我们并不需要存储这些大数值，这时就需要使用独热编码（One-Hot Encoding）。\n",
    "可以把独热编码看作是一种收紧（tighten）特征向量的工具。\n",
    "它把特征向量的每个特征与特征的非重复总数相对应，\n",
    "通过 one-of-k 的形式对每个值进行编码。\n",
    "特征向量的每个特征值都按照这种方式编码，这样可以更加有效地表示空间。\n",
    "例如，我们需要处理4维向量空间，当给一个特性向量的第 n 个特征进行编码时，\n",
    "编码器会遍历每个特征向量的第 n 个特征，然后进行非重复计数。\n",
    "如果非重复计数的值是 K ，那么就把这个特征转换为只有一个值是1其他值都是0的 K 维向量。\n"
   ]
  },
  {
   "cell_type": "code",
   "execution_count": 6,
   "metadata": {
    "scrolled": true
   },
   "outputs": [
    {
     "name": "stdout",
     "output_type": "stream",
     "text": [
      "\n",
      "Encoded vector:\n",
      " [[0. 0. 1. 0. 1. 0. 0. 0. 1. 1. 0.]]\n"
     ]
    }
   ],
   "source": [
    "encoder = preprocessing.OneHotEncoder()\n",
    "encoder.fit([[0, 2, 1, 12], [1, 3, 5, 3], [2, 3, 2, 12], [1, 2, 4, 3]])\n",
    "\n",
    "encoded_vector = encoder.transform([[2, 3, 5, 3]]).toarray()\n",
    "print (\"\\nEncoded vector:\\n\", encoded_vector)"
   ]
  },
  {
   "cell_type": "markdown",
   "metadata": {},
   "source": [
    "在上面的示例中，观察一下每个特征向量的第三个特征，\n",
    "分别是1、5、2、4这4个不重复的值，也就是说独热编码向量的长度是4。\n",
    "如果你需要对5进行编码，那么向量就是[0, 1, 0, 0]。\n",
    "向量中只有一个值是1。第二个元素是1，对应的值是5\n",
    "#每个特征向量只有第三个特征不同,1,5,2,4,即独热编码向量长度是4.\n",
    "#如果对5编码,向量是[0,0,0,1],向量里只有一个值1,第二个元素是1,对应值是5.?不懂! 上一版。"
   ]
  },
  {
   "cell_type": "markdown",
   "metadata": {},
   "source": [
    "## 1.3标记编码方法 label_encoder.py\n",
    "在监督学习中，经常需要处理各种各样的标记。这些标记可能是数字，也可能是单词。\n",
    "如果标记是数字，那么算法可以直接使用它们，但是，许多情况下，\n",
    "标记都需要以人们可理解的形式存在，因此，人们通常会用单词标记训练数据集。\n",
    "标记编码就是要把单词标记转换成数值形式，让算法懂得如何操作标记。\n",
    "接下来看看如何标记编码。\n"
   ]
  },
  {
   "cell_type": "markdown",
   "metadata": {},
   "source": [
    "### 详细步骤\n",
    "\n",
    "(1) 新建一个 Python 文件，然后导入 preprocessing 程序包："
   ]
  },
  {
   "cell_type": "code",
   "execution_count": 21,
   "metadata": {},
   "outputs": [],
   "source": [
    "import numpy as np\n",
    "from sklearn import preprocessing"
   ]
  },
  {
   "cell_type": "markdown",
   "metadata": {},
   "source": [
    "(2) 这个程序包包含许多数据预处理需要的函数。定义一个标记编码器（label encoder）\n",
    "包里有多个数据预处理函数"
   ]
  },
  {
   "cell_type": "code",
   "execution_count": 8,
   "metadata": {},
   "outputs": [],
   "source": [
    "label_encoder = preprocessing.LabelEncoder()"
   ]
  },
  {
   "cell_type": "markdown",
   "metadata": {},
   "source": [
    "(3) 对象label_encoder知道如何理解单词标记，创建标记"
   ]
  },
  {
   "cell_type": "code",
   "execution_count": 9,
   "metadata": {},
   "outputs": [],
   "source": [
    "input_classes = ['audi', 'ford', 'audi', 'toyota', 'ford', 'bmw']"
   ]
  },
  {
   "cell_type": "markdown",
   "metadata": {},
   "source": [
    "(4) 为标记编码(方法一)"
   ]
  },
  {
   "cell_type": "code",
   "execution_count": 10,
   "metadata": {},
   "outputs": [
    {
     "name": "stdout",
     "output_type": "stream",
     "text": [
      "Class mapping:\n",
      "audi --> 0\n",
      "bmw --> 1\n",
      "ford --> 2\n",
      "toyota --> 3\n"
     ]
    }
   ],
   "source": [
    "label_encoder.fit(input_classes)\n",
    "\n",
    "# print classes\n",
    "print (\"Class mapping:\")\n",
    "for i, item in enumerate(label_encoder.classes_):\n",
    "    print (item, '-->', i)"
   ]
  },
  {
   "cell_type": "markdown",
   "metadata": {},
   "source": [
    "(6)（方法二）transform a set of classes\n",
    "    \n",
    "就像前面结果显示的那样，单词被转换成从0开始的索引值。\n",
    "现在，如果你遇到一组标记，就可以非常轻松地转换它们了"
   ]
  },
  {
   "cell_type": "code",
   "execution_count": 11,
   "metadata": {},
   "outputs": [
    {
     "name": "stdout",
     "output_type": "stream",
     "text": [
      "\n",
      "Labels = ['toyota', 'ford', 'audi']\n",
      "Encoded labels = [3, 2, 0]\n"
     ]
    }
   ],
   "source": [
    "labels = ['toyota', 'ford', 'audi']\n",
    "encoded_labels = label_encoder.transform(labels)\n",
    "print (\"\\nLabels =\", labels)\n",
    "print (\"Encoded labels =\", list(encoded_labels))"
   ]
  },
  {
   "cell_type": "markdown",
   "metadata": {},
   "source": [
    "### 7.inverse transform \n",
    "(7) 这种方式比纯手工进行单词与数字的编码要简单许多。\n",
    "还可以通过数字反转回单词的功能检查结果的正确性："
   ]
  },
  {
   "cell_type": "code",
   "execution_count": 12,
   "metadata": {},
   "outputs": [
    {
     "name": "stdout",
     "output_type": "stream",
     "text": [
      "\n",
      "Encoded labels = [2, 1, 0, 3, 1]\n",
      "Decoded labels = ['ford', 'bmw', 'audi', 'toyota', 'bmw']\n"
     ]
    },
    {
     "name": "stderr",
     "output_type": "stream",
     "text": [
      "C:\\Users\\user\\Anaconda3\\lib\\site-packages\\sklearn\\preprocessing\\label.py:151: DeprecationWarning: The truth value of an empty array is ambiguous. Returning False, but in future this will result in an error. Use `array.size > 0` to check that an array is not empty.\n",
      "  if diff:\n"
     ]
    }
   ],
   "source": [
    "encoded_labels = [2, 1, 0, 3, 1]\n",
    "decoded_labels = label_encoder.inverse_transform(encoded_labels)\n",
    "print (\"\\nEncoded labels =\", encoded_labels)\n",
    "print (\"Decoded labels =\", list(decoded_labels))"
   ]
  },
  {
   "cell_type": "markdown",
   "metadata": {},
   "source": [
    "可以看到，映射结果是完全正确的。"
   ]
  },
  {
   "cell_type": "markdown",
   "metadata": {},
   "source": [
    "## 1.4　创建线性回归器\n",
    "\n",
    "回归是估计输入数据与连续值输出数据之间关系的过程。\n",
    "数据通常是实数形式的，我们的目标是估计满足输入到输出映射关系的基本函数。\n",
    "### 1.4.1　准备工作\n",
    "线性回归用输入变量的线性组合来估计基本函数。\n",
    "前面的示例就是一种单输入单输出变量的线性回归。\n",
    "\n",
    "线性回归的目标是提取输入变量与输出变量的关联线性模型，\n",
    "这就要求实际输出与线性方程预测的输出的残差平方和\n",
    "（sum of squares of differences）最小化。\n",
    "这种方法被称为普通最小二乘法（Ordinary Least Squares，OLS）。\n",
    "\n",
    "你可能觉得用一条曲线对这些点进行拟合效果会更好，但是线性回归不允许这样做。\n",
    "线性回归的主要优点就是方程简单。如果你想用非线性回归，可能会得到更准确的模型，\n",
    "但是拟合速度会慢很多。线性回归模型就像前面那张图里显示的，\n",
    "用一条直线近似数据点的趋势。接下来看看如何用 Python 建立线性回归模型。\n",
    "### 1.4.2　详细步骤\n",
    "假设你已经创建了数据文件 data_singlevar.txt，文件里用逗号分隔符分割字段，\n",
    "第一个字段是输入值，第二个字段是与逗号前面的输入值相对应的输出值。\n",
    "你可以用这个文件作为输入参数。\n",
    "\n",
    "(1) 创建一个 Python 文件 regressor.py，然后在里面增加下面几行代码：\n"
   ]
  },
  {
   "cell_type": "code",
   "execution_count": 1,
   "metadata": {},
   "outputs": [],
   "source": [
    "# 1.4 线形回归器\n",
    "#regressor.py with datafile data_singlevar.txt\n",
    "import sys\n",
    "import numpy as np\n",
    "import pandas as pd\n",
    "import matplotlib.pyplot as plt\n",
    "\n",
    "filename = sys.argv[1]\n",
    "X = []\n",
    "y = []\n",
    "with open(\"data_singlevar.txt\", 'r') as f:\n",
    "    for line in f.readlines():\n",
    "        xt, yt = [float(i) for i in line.split(',')]\n",
    "        X.append(xt)\n",
    "        y.append(yt)"
   ]
  },
  {
   "cell_type": "markdown",
   "metadata": {},
   "source": [
    "$ python regressor.py data_singlevar.txt         cmd 下执行程序 数据文件"
   ]
  },
  {
   "cell_type": "markdown",
   "metadata": {},
   "source": [
    "把输入数据加载到变量X和y，其中X是数据，y是标记。\n",
    "在代码的for循环体中，我们解析每行数据，用逗号分割字段。\n",
    "然后，把字段转化为浮点数，并分别保存到变量X和y中。\n",
    "\n",
    "(2) 建立机器学习模型时，需要用一种方法来验证模型，\n",
    "检查模型是否达到一定的满意度（satisfactory level）。\n",
    "为了实现这个方法，把数据分成两组：\n",
    "训练数据集（training dataset）与测试数据集（testing dataset）。\n",
    "训练数据集用来建立模型，测试数据集用来验证模型对未知数据的学习效果。\n",
    "因此，先把数据分成训练数据集与测试数据集："
   ]
  },
  {
   "cell_type": "code",
   "execution_count": 2,
   "metadata": {},
   "outputs": [],
   "source": [
    "#2.为了检验机器学习模型是否达到满意度，将数据分为训练和测试2组\n",
    "# Train/test split\n",
    "num_training = int(0.8 * len(X))\n",
    "num_test = len(X) - num_training\n",
    "\n",
    "# Training data\n",
    "X_train = np.array(X[:num_training]).reshape((num_training,1))\n",
    "y_train = np.array(y[:num_training])\n",
    "\n",
    "# Test data\n",
    "X_test = np.array(X[num_training:]).reshape((num_test,1))\n",
    "y_test = np.array(y[num_training:])"
   ]
  },
  {
   "cell_type": "markdown",
   "metadata": {},
   "source": [
    "这里用80%的数据作为训练数据集，其余20%的数据作为测试数据集。\n",
    "\n",
    "(3) 现在已经准备好训练模型。接下来创建一个回归器对象，代码如下所示："
   ]
  },
  {
   "cell_type": "code",
   "execution_count": 3,
   "metadata": {},
   "outputs": [
    {
     "name": "stdout",
     "output_type": "stream",
     "text": [
      "1->  LinearRegression(copy_X=True, fit_intercept=True, n_jobs=1, normalize=False)\n",
      "2->  LinearRegression(copy_X=True, fit_intercept=True, n_jobs=1, normalize=False)\n"
     ]
    }
   ],
   "source": [
    "#3.已经准备好了训练模型，创建回归器对象\n",
    "# Create linear regression object\n",
    "from sklearn import linear_model\n",
    "\n",
    "linear_regressor = linear_model.LinearRegression()\n",
    "print('1-> ', linear_regressor)\n",
    "\n",
    "#用训练数据集训练线形回归器，向fit方法输入数据即可\n",
    "# Train the model using the training sets\n",
    "linear_regressor.fit(X_train, y_train)\n",
    "print('2-> ', linear_regressor) # 训练了以后回归器有什么变化？在哪里发生了变化？20190322"
   ]
  },
  {
   "cell_type": "markdown",
   "metadata": {},
   "source": [
    "(4) 检查拟合\n",
    "\n",
    "我们利用训练数据集训练了线性回归器。向fit方法提供输入数据即可训练模型。\n",
    "用下面的代码看看它如何拟合："
   ]
  },
  {
   "cell_type": "code",
   "execution_count": 4,
   "metadata": {
    "scrolled": true
   },
   "outputs": [
    {
     "data": {
      "image/png": "[encoded data removed]",
      "text/plain": [
       "<matplotlib.figure.Figure at 0xb107940>"
      ]
     },
     "metadata": {},
     "output_type": "display_data"
    }
   ],
   "source": [
    "# Plot outputs\n",
    "import matplotlib.pyplot as plt\n",
    "y_train_pred = linear_regressor.predict(X_train)\n",
    "plt.figure()\n",
    "plt.scatter(X_train, y_train, color='green')\n",
    "plt.plot(X_train, y_train_pred, color='black', linewidth=4)\n",
    "plt.title('Training data')\n",
    "plt.show()"
   ]
  },
  {
   "cell_type": "code",
   "execution_count": null,
   "metadata": {},
   "outputs": [],
   "source": []
  },
  {
   "cell_type": "code",
   "execution_count": 71,
   "metadata": {},
   "outputs": [
    {
     "data": {
      "text/plain": [
       "<matplotlib.collections.PathCollection at 0xb33ecc0>"
      ]
     },
     "execution_count": 71,
     "metadata": {},
     "output_type": "execute_result"
    },
    {
     "data": {
      "image/png": "[encoded data removed]",
      "text/plain": [
       "<matplotlib.figure.Figure at 0xb9ef550>"
      ]
     },
     "metadata": {},
     "output_type": "display_data"
    }
   ],
   "source": [
    "# 画散点图\n",
    "import matplotlib.pyplot as plt\n",
    "%matplotlib inline \n",
    "plt.figure()\n",
    "plt.scatter(X_train, y_train, color='green') # 原始数据"
   ]
  },
  {
   "cell_type": "markdown",
   "metadata": {},
   "source": [
    "就会看到如图1-2所示的线性回归。\n",
    "\n",
    "(6) 在前面的代码中，我们用训练的模型预测了训练数据的输出结果，但这并不能说明模型对未知的数据也适用，因为我们只是在训练数据上运行模型。这只能体现模型对训练数据的拟合效果。从图1-2中可以看到，模型训练的效果很好。\n",
    "\n",
    "(7) 接下来用模型对测试数据集进行预测，然后画出来看看，代码如下所示：\n"
   ]
  },
  {
   "cell_type": "code",
   "execution_count": 5,
   "metadata": {},
   "outputs": [
    {
     "data": {
      "image/png": "[encoded data removed]",
      "text/plain": [
       "<matplotlib.figure.Figure at 0xb1c8908>"
      ]
     },
     "metadata": {},
     "output_type": "display_data"
    }
   ],
   "source": [
    "# Predict the output\n",
    "y_test_pred = linear_regressor.predict(X_test)\n",
    "\n",
    "plt.scatter(X_test, y_test, color='green')\n",
    "plt.plot(X_test, y_test_pred, color='black', linewidth=4)\n",
    "plt.title('Test data')\n",
    "plt.show()"
   ]
  },
  {
   "cell_type": "markdown",
   "metadata": {},
   "source": [
    "运行代码，可以看到如图1-3所示的线性回归。\n",
    "\n",
    "## 1.5　计算回归准确性\n",
    "现在已经建立了回归器，接下来最重要的就是如何评价回归器的拟合效果。在模型评价的相关内容中，用误差（error）表示实际值与模型预测值之间的差值。\n",
    "\n",
    "### 1.5.1　准备工作\n",
    "下面快速了解几个衡量回归器拟合效果的重要指标（metric）。回归器可以用许多不同的指标进行衡量，部分指标如下所示。\n",
    "\n",
    "平均绝对误差（mean absolute error）：这是给定数据集的所有数据点的绝对误差平均值。\n",
    "\n",
    "均方误差（mean squared error）：这是给定数据集的所有数据点的误差的平方的平均值。这是最流行的指标之一。\n",
    "\n",
    "中位数绝对误差（median absolute error）：这是给定数据集的所有数据点的误差的中位数。这个指标的主要优点是可以消除异常值（outlier）的干扰。测试数据集中的单个坏点不会影响整个误差指标，均值误差指标会受到异常点的影响。\n",
    "\n",
    "解释方差分（explained variance score）：这个分数用于衡量我们的模型对数据集波动的解释能力。如果得分1.0分，那么表明我们的模型是完美的。\n",
    "\n",
    "R方得分（R2 score）：这个指标读作“R方”，是指确定性相关系数，用于衡量模型对未知样本预测的效果。最好的得分是1.0，值也可以是负数。\n",
    "\n",
    "### 1.5.2　详细步骤\n",
    "scikit-learn 里面有一个模块，提供了计算所有指标的功能。重新打开一个 Python 文件，然后输入以下代码：\n"
   ]
  },
  {
   "cell_type": "code",
   "execution_count": 6,
   "metadata": {},
   "outputs": [
    {
     "name": "stdout",
     "output_type": "stream",
     "text": [
      "Mean absolute error 平均误差= 0.54\n",
      "Mean squared error 均方误差= 0.38\n",
      "Median absolute error 中位数绝对误差= 0.54\n",
      "Explain variance score 解释方差分best 1= 0.68\n",
      "R2 score R方得分，相关系数best 1= 0.68\n"
     ]
    }
   ],
   "source": [
    "# Measure performance\n",
    "import sklearn.metrics as sm\n",
    "\n",
    "print ( \"Mean absolute error 平均误差=\", round(sm.mean_absolute_error(y_test, y_test_pred), 2) )\n",
    "print ( \"Mean squared error 均方误差=\", round(sm.mean_squared_error(y_test, y_test_pred), 2) )\n",
    "print ( \"Median absolute error 中位数绝对误差=\", round(sm.median_absolute_error(y_test, y_test_pred), 2)) \n",
    "print ( \"Explain variance score 解释方差分best 1=\", round(sm.explained_variance_score(y_test, y_test_pred), 2)) \n",
    "print ( \"R2 score R方得分，相关系数best 1=\", round(sm.r2_score(y_test, y_test_pred), 2))"
   ]
  },
  {
   "cell_type": "markdown",
   "metadata": {},
   "source": [
    "每个指标都描述得面面俱到是非常乏味的，因此只选择一两个指标来评估我们的模型。通常的做法是尽量保证均方误差最低，而且解释方差分最高"
   ]
  },
  {
   "cell_type": "markdown",
   "metadata": {},
   "source": [
    "### 1.6　保存模型数据\n",
    "模型训练结束之后，如果能够把模型保存成文件，那么下次再使用的时候，只要简单地加载就可以了。\n",
    "\n",
    "详细步骤\n",
    "\n",
    "用程序保存模型的具体操作步骤如下。\n",
    "\n",
    "(1) 在 Python 文件 regressor.py 中加入以下代码："
   ]
  },
  {
   "cell_type": "code",
   "execution_count": 7,
   "metadata": {},
   "outputs": [],
   "source": [
    "import pickle as pickle\n",
    "# output_model_file = 'saved_model.pkl'\n",
    "output_model_file = 'saved_model.pkl'\n",
    "with open(output_model_file, 'wb') as f: # ‘w’ 要加b -> 'wb' 否则报错。\n",
    "    pickle.dump(linear_regressor, f)"
   ]
  },
  {
   "cell_type": "markdown",
   "metadata": {},
   "source": [
    "(2) 回归模型会保存在 saved_model.pkl 文件中。下面看看如何加载并使用它，代码如下所示："
   ]
  },
  {
   "cell_type": "code",
   "execution_count": 8,
   "metadata": {},
   "outputs": [
    {
     "name": "stdout",
     "output_type": "stream",
     "text": [
      "New mean absolute error = 0.54\n"
     ]
    }
   ],
   "source": [
    "with open(output_model_file, 'rb') as f:\n",
    "    model_linregr = pickle.load(f)\n",
    "\n",
    "y_test_pred_new = model_linregr.predict(X_test)\n",
    "print (\"New mean absolute error =\", round(sm.mean_absolute_error(y_test, y_test_pred_new), 2))"
   ]
  },
  {
   "cell_type": "markdown",
   "metadata": {},
   "source": [
    "(3) 这里只是把回归模型从 Pickle 文件加载到model_linregr变量中。你可以将打印结果与前面的结果进行对比，确认模型与之前的一样"
   ]
  },
  {
   "attachments": {
    "%E5%9B%BE1-4.png": {
     "image/png": "[encoded data removed]"
    },
    "%E5%9B%BE1-5.png": {
     "image/png": "[encoded data removed]"
    }
   },
   "cell_type": "markdown",
   "metadata": {},
   "source": [
    "## 1.7　创建岭回归器\n",
    "线性回归的主要问题是对异常值敏感。在真实世界的数据收集过程中，经常会遇到错误的度量结果。而线性回归使用的普通最小二乘法，其目标是使平方误差最小化。这时，由于异常值误差的绝对值很大，因此会引起问题，从而破坏整个模型。\n",
    "\n",
    "### 1.7.1　准备工作\n",
    "先看图1-4。\n",
    "![%E5%9B%BE1-4.png](attachment:%E5%9B%BE1-4.png)\n",
    "图　1-4\n",
    "\n",
    "右下角的两个数据点明显是异常值，但是这个模型需要拟合所有的数据点，因此导致整个模型都错了。仅凭直觉观察，我们就会觉得如图1-5的拟合结果更好。\n",
    "![%E5%9B%BE1-5.png](attachment:%E5%9B%BE1-5.png)\n",
    "图　1-5\n",
    "\n",
    "普通最小二乘法在建模时会考虑每个数据点的影响，因此，最终模型就会像图1-4显示的直线那样。显然，我们发现这个模型不是最优的。为了避免这个问题，我们引入正则化项的系数作为阈值来消除异常值的影响。这个方法被称为岭回归。\n",
    "\n",
    "### 1.7.2　详细步骤\n",
    "接下来看看如何用 Python 建立岭回归器。\n",
    "\n",
    "(1) 你可以从 data_multi_variable.txt 文件中加载数据。这个文件的每一行都包含多个数值。除了最后一个数值外，前面的所有数值构成输入特征向量。\n",
    "\n",
    "(2) 把下面的代码加入 regressor.py 文件中。我们用一些参数初始化岭回归器：\n"
   ]
  },
  {
   "cell_type": "code",
   "execution_count": 9,
   "metadata": {
    "scrolled": false
   },
   "outputs": [],
   "source": [
    "ridge_regressor = linear_model.Ridge(alpha=0.01, fit_intercept=True, max_iter=10000)"
   ]
  },
  {
   "cell_type": "markdown",
   "metadata": {},
   "source": [
    "(3) alpha参数控制回归器的复杂程度。当alpha趋于0时，岭回归器就是用普通最小二乘法的线性回归器。因此，如果你希望模型对异常值不那么敏感，就需要设置一个较大的alpha值。这里把alpha值设置为0.01。\n",
    "\n",
    "(4) 下面让我们来训练岭回归器。"
   ]
  },
  {
   "cell_type": "code",
   "execution_count": 10,
   "metadata": {},
   "outputs": [
    {
     "name": "stdout",
     "output_type": "stream",
     "text": [
      "LINEAR:\n",
      "Mean absolute error = 0.54\n",
      "Mean squared error = 0.38\n",
      "Median absolute error = 0.54\n",
      "Explained variance score = 0.68\n",
      "R2 score = 0.68\n"
     ]
    }
   ],
   "source": [
    "ridge_regressor.fit(X_train, y_train)\n",
    "y_test_pred_ridge = ridge_regressor.predict(X_test)\n",
    "\n",
    "print( \"LINEAR:\")\n",
    "print( \"Mean absolute error =\", round(sm.mean_absolute_error(y_test, y_test_pred), 2))\n",
    "print( \"Mean squared error =\", round(sm.mean_squared_error(y_test, y_test_pred), 2) )\n",
    "print( \"Median absolute error =\", round(sm.median_absolute_error(y_test, y_test_pred), 2) )\n",
    "print( \"Explained variance score =\", round(sm.explained_variance_score(y_test, y_test_pred), 2) )\n",
    "print( \"R2 score =\", round(sm.r2_score(y_test, y_test_pred), 2))"
   ]
  },
  {
   "cell_type": "markdown",
   "metadata": {},
   "source": [
    "运行代码检查误差指标。可以用同样的数据建立一个线性回归器，并与岭回归器的结果进行比较，看看把正则化引入回归模型之后的效果如何。"
   ]
  },
  {
   "cell_type": "code",
   "execution_count": 73,
   "metadata": {},
   "outputs": [
    {
     "data": {
      "text/plain": [
       "<matplotlib.collections.PathCollection at 0xbb21da0>"
      ]
     },
     "execution_count": 73,
     "metadata": {},
     "output_type": "execute_result"
    },
    {
     "data": {
      "image/png": "[encoded data removed]",
      "text/plain": [
       "<matplotlib.figure.Figure at 0xadae748>"
      ]
     },
     "metadata": {},
     "output_type": "display_data"
    }
   ],
   "source": [
    "# 画散点图\n",
    "import matplotlib.pyplot as plt\n",
    "%matplotlib inline \n",
    "plt.figure()\n",
    "plt.scatter(X_train, y_train, color='green') # 原始数据"
   ]
  },
  {
   "attachments": {
    "%E5%9B%BE1-6.png": {
     "image/png": "[encoded data removed]"
    },
    "%E5%9B%BE1-7.png": {
     "image/png": "[encoded data removed]"
    }
   },
   "cell_type": "markdown",
   "metadata": {},
   "source": [
    "## 1.8　创建多项式回归器\n",
    "线性回归模型有一个主要的局限性，那就是它只能把输入数据拟合成直线，而多项式回归模型通过拟合多项式方程来克服这类问题，从而提高模型的准确性。\n",
    "\n",
    "### 1.8.1　准备工作\n",
    "先看图1-6。\n",
    "![%E5%9B%BE1-6.png](attachment:%E5%9B%BE1-6.png)\n",
    "图　1-6\n",
    "\n",
    "从图1-6中可以看到，数据点本身的模式中带有自然的曲线，而线性模型是不能捕捉到这一点的。再来看看多项式模型的效果，如图1-7所示。\n",
    "![%E5%9B%BE1-7.png](attachment:%E5%9B%BE1-7.png)\n",
    "图　1-7\n",
    "\n",
    "图1-7中的虚线表示线性回归模型，实线表示多项式回归模型。这个模型的曲率是由多项式的次数决定的。随着模型曲率的增加，模型变得更准确。但是，增加曲率的同时也增加了模型的复杂性，因此拟合速度会变慢。当我们对模型的准确性的理想追求与计算能力限制的残酷现实发生冲突时，就需要综合考虑了。\n",
    "### 1.8.2　详细步骤\n",
    "(1) 将下面的代码加入 Python 文件 regressor.py 中："
   ]
  },
  {
   "cell_type": "code",
   "execution_count": 39,
   "metadata": {},
   "outputs": [],
   "source": [
    "from sklearn.preprocessing import PolynomialFeatures\n",
    "Featurespolynomial = PolynomialFeatures(degree=3)\n",
    "# 原 import Polynomial 错误 ，改为PolynomialFeatures OK! \n",
    "# 查看 sklearn 版本\n",
    "# sklearn.__version__"
   ]
  },
  {
   "cell_type": "markdown",
   "metadata": {},
   "source": [
    "(2) 上一行将曲线的多项式的次数的初始值设置为3。下面用数据点来计算多项式的参数："
   ]
  },
  {
   "cell_type": "code",
   "execution_count": 43,
   "metadata": {},
   "outputs": [],
   "source": [
    "X_train_transformed = polynomial.fit_transform(X_train)"
   ]
  },
  {
   "cell_type": "markdown",
   "metadata": {},
   "source": [
    "其中，X_train_transformed表示多项式形式的输入，与线性回归模型是一样大的。\n",
    "\n",
    "(3) 接下来用文件中的第一个数据点来检查多项式模型是否能够准确预测："
   ]
  },
  {
   "cell_type": "code",
   "execution_count": 44,
   "metadata": {},
   "outputs": [
    {
     "name": "stdout",
     "output_type": "stream",
     "text": [
      "\n",
      "Linear regression: -11.0587294983359\n",
      "\n",
      "Polynomial regression: -8.150508083561363\n"
     ]
    }
   ],
   "source": [
    "datapoint = [0.39,2.78,7.11]\n",
    "poly_datapoint = polynomial.fit_transform([datapoint])\n",
    "poly_linear_model = linear_model.LinearRegression()\n",
    "poly_linear_model.fit(X_train_transformed, y_train)\n",
    "print( \"\\nLinear regression:\", linear_regressor.predict([datapoint]) [0])\n",
    "print( \"\\nPolynomial regression:\", poly_linear_model.predict(poly_datapoint)[0])\n"
   ]
  },
  {
   "cell_type": "markdown",
   "metadata": {},
   "source": [
    "可以发现，多项式回归模型的预测值更接近实际的输出值。如果想要数据更接近实际输出值，就需要增加多项式的次数。\n",
    "\n",
    "(4) 将多项式的次数加到10看看结果："
   ]
  },
  {
   "cell_type": "code",
   "execution_count": 42,
   "metadata": {},
   "outputs": [],
   "source": [
    "polynomial = PolynomialFeatures(degree=10)"
   ]
  },
  {
   "cell_type": "markdown",
   "metadata": {},
   "source": [
    "现在，你可以发现预测值与实际的输出值非常地接近。\n",
    "我没有发现有什么变化！"
   ]
  },
  {
   "cell_type": "code",
   "execution_count": 45,
   "metadata": {
    "scrolled": true
   },
   "outputs": [
    {
     "name": "stdout",
     "output_type": "stream",
     "text": [
      "LINEAR:\n",
      "Mean absolute error = 3.95\n",
      "Mean squared error = 23.15\n",
      "Median absolute error = 3.69\n",
      "Explained variance score = 0.84\n",
      "R2 score = 0.83\n",
      "\n",
      "RIDGE:\n",
      "Mean absolute error = 3.95\n",
      "Mean squared error = 23.15\n",
      "Median absolute error = 3.69\n",
      "Explained variance score = 0.84\n",
      "R2 score = 0.83\n",
      "\n",
      "Linear regression:\n",
      " [-11.0587295]\n",
      "\n",
      "Polynomial regression:\n",
      " [-8.15050808]\n",
      "\n",
      "SGD regressor:\n",
      " [-7.96283483]\n"
     ]
    },
    {
     "name": "stderr",
     "output_type": "stream",
     "text": [
      "C:\\Users\\user\\Anaconda3\\lib\\site-packages\\sklearn\\linear_model\\stochastic_gradient.py:117: DeprecationWarning: n_iter parameter is deprecated in 0.19 and will be removed in 0.21. Use max_iter and tol instead.\n",
      "  raise ValueError(\"early_stopping must be either True or False\")\n"
     ]
    }
   ],
   "source": [
    "# regression_multivar.py from GitHub/Python-Machine-Learning-Cookbook\n",
    "\n",
    "import sys\n",
    "import numpy as np\n",
    "\n",
    "filename = sys.argv[1]\n",
    "filename = 'data_multivar.txt'\n",
    "X = []\n",
    "y = []\n",
    "with open(filename, 'r') as f:\n",
    "    for line in f.readlines():\n",
    "        data = [float(i) for i in line.split(',')]\n",
    "        xt, yt = data[:-1], data[-1]\n",
    "        X.append(xt)\n",
    "        y.append(yt)\n",
    "\n",
    "# Train/test split\n",
    "num_training = int(0.8 * len(X))\n",
    "num_test = len(X) - num_training\n",
    "\n",
    "# Training data\n",
    "#X_train = np.array(X[:num_training]).reshape((num_training,1))\n",
    "X_train = np.array(X[:num_training])\n",
    "y_train = np.array(y[:num_training])\n",
    "\n",
    "# Test data\n",
    "#X_test = np.array(X[num_training:]).reshape((num_test,1))\n",
    "X_test = np.array(X[num_training:])\n",
    "y_test = np.array(y[num_training:])\n",
    "\n",
    "# Create linear regression object\n",
    "from sklearn import linear_model\n",
    "\n",
    "linear_regressor = linear_model.LinearRegression()\n",
    "ridge_regressor = linear_model.Ridge(alpha=0.01, fit_intercept=True, max_iter=10000)\n",
    "\n",
    "# Train the model using the training sets\n",
    "linear_regressor.fit(X_train, y_train)\n",
    "ridge_regressor.fit(X_train, y_train)\n",
    "\n",
    "# Predict the output\n",
    "y_test_pred = linear_regressor.predict(X_test)\n",
    "y_test_pred_ridge = ridge_regressor.predict(X_test)\n",
    "\n",
    "# Measure performance\n",
    "import sklearn.metrics as sm\n",
    "\n",
    "print (\"LINEAR:\")\n",
    "print (\"Mean absolute error =\", round(sm.mean_absolute_error(y_test, y_test_pred), 2) )\n",
    "print (\"Mean squared error =\", round(sm.mean_squared_error(y_test, y_test_pred), 2) )\n",
    "print (\"Median absolute error =\", round(sm.median_absolute_error(y_test, y_test_pred), 2) )\n",
    "print (\"Explained variance score =\", round(sm.explained_variance_score(y_test, y_test_pred), 2) )\n",
    "print (\"R2 score =\", round(sm.r2_score(y_test, y_test_pred), 2))\n",
    "\n",
    "print (\"\\nRIDGE:\")\n",
    "print (\"Mean absolute error =\", round(sm.mean_absolute_error(y_test, y_test_pred_ridge), 2) )\n",
    "print (\"Mean squared error =\", round(sm.mean_squared_error(y_test, y_test_pred_ridge), 2) )\n",
    "print (\"Median absolute error =\", round(sm.median_absolute_error(y_test, y_test_pred_ridge), 2) )\n",
    "print (\"Explained variance score =\", round(sm.explained_variance_score(y_test, y_test_pred_ridge), 2) )\n",
    "print (\"R2 score =\", round(sm.r2_score(y_test, y_test_pred_ridge), 2))\n",
    "\n",
    "# Polynomial regression 多项式回归\n",
    "from sklearn.preprocessing import PolynomialFeatures\n",
    "\n",
    "polynomial = PolynomialFeatures(degree=10)\n",
    "X_train_transformed = polynomial.fit_transform(X_train)\n",
    "datapoint = [0.39,2.78,7.11]\n",
    "poly_datapoint = polynomial.fit_transform([datapoint])\n",
    "\n",
    "poly_linear_model = linear_model.LinearRegression()\n",
    "poly_linear_model.fit(X_train_transformed, y_train)\n",
    "print (\"\\nLinear regression:\\n\", linear_regressor.predict([datapoint]))\n",
    "print (\"\\nPolynomial regression:\\n\", poly_linear_model.predict(poly_datapoint))\n",
    "\n",
    "# Stochastic Gradient Descent regressor 随机梯度下降回归\n",
    "sgd_regressor = linear_model.SGDRegressor(loss='huber', n_iter=50)\n",
    "sgd_regressor.fit(X_train, y_train)\n",
    "print (\"\\nSGD regressor:\\n\", sgd_regressor.predict([datapoint]))\n",
    "# datapoint 作为变量的值是2维，而[datapoint] 就变成了1维。"
   ]
  },
  {
   "cell_type": "markdown",
   "metadata": {},
   "source": [
    "## 1.9　估算房屋价格\n",
    "是时候用所学的知识来解决真实世界的问题了。让我们用这些原理来估算房屋价格。房屋估价是理解回归分析最经典的案例之一，通常是一个不错的切入点。它符合人们的直觉，而且与人们的生活息息相关，因此在用机器学习处理复杂事情之前，通过房屋估价可以更轻松地理解相关概念。我们将使用带 AdaBoost 算法的决策树回归器（decision tree regressor）来解决这个问题。\n",
    "\n",
    "### 1.9.1　准备工作\n",
    "决策树是一个树状模型，每个节点都做出一个决策，从而影响最终结果。叶子节点表示输出数值，分支表示根据输入特征做出的中间决策。AdaBoost 算法是指自适应增强（adaptive boosting）算法，这是一种利用其他系统增强模型准确性的技术。这种技术是将不同版本的算法结果进行组合，用加权汇总的方式获得最终结果，被称为弱学习器（weak learners）。AdaBoost 算法在每个阶段获取的信息都会反馈到模型中，这样学习器就可以在后一阶段重点训练难以分类的样本。这种学习方式可以增强系统的准确性。\n",
    "\n",
    "首先使用 AdaBoost 算法对数据集进行回归拟合，再计算误差，然后根据误差评估结果，用同样的数据集重新拟合。可以把这些看作是回归器的调优过程，直到达到预期的准确性。假设你拥有一个包含影响房价的各种参数的数据集，我们的目标就是估计这些参数与房价的关系，这样就可以根据未知参数估计房价了。\n",
    "\n",
    "1.9.2　详细步骤\n",
    "(1) 创建一个新的 Python 文件 housing.py，然后加入下面的代码：\n"
   ]
  },
  {
   "cell_type": "code",
   "execution_count": 16,
   "metadata": {},
   "outputs": [],
   "source": [
    "import numpy as np\n",
    "from sklearn.tree import DecisionTreeRegressor\n",
    "from sklearn.ensemble import AdaBoostRegressor\n",
    "from sklearn import datasets\n",
    "from sklearn.metrics import mean_squared_error, explained_variance_score\n",
    "from sklearn.utils import shuffle\n",
    "import matplotlib.pyplot as plt\n",
    "%matplotlib inline "
   ]
  },
  {
   "cell_type": "markdown",
   "metadata": {},
   "source": [
    "(2) 网上有一个标准房屋价格数据库，人们经常用它来研究机器学习。你可以在这里下载数据。不过 scikit-learn 提供了数据接口，可以直接通过下面的代码加载数据："
   ]
  },
  {
   "cell_type": "code",
   "execution_count": 2,
   "metadata": {},
   "outputs": [],
   "source": [
    "housing_data = datasets.load_boston()"
   ]
  },
  {
   "cell_type": "markdown",
   "metadata": {},
   "source": [
    "每个数据点由影响房价的13个输入参数构成。你可以用housing_data.data获取输入的数据，用housing_data.target获取对应的房屋价格。\n",
    "\n",
    "(3) 接下来把输入数据与输出结果分成不同的变量。我们可以通过shuffle函数把数据的顺序打乱："
   ]
  },
  {
   "cell_type": "code",
   "execution_count": 5,
   "metadata": {},
   "outputs": [],
   "source": [
    "X, y = shuffle(housing_data.data, housing_data.target, random_state=7)"
   ]
  },
  {
   "cell_type": "markdown",
   "metadata": {},
   "source": [
    "(4) 参数random_state用来控制如何打乱数据，让我们可以重新生成结果。接下来把数据分成训练数据集和测试数据集，其中80%的数据用于训练，剩余20%的数据用于测试："
   ]
  },
  {
   "cell_type": "code",
   "execution_count": 8,
   "metadata": {},
   "outputs": [],
   "source": [
    "num_training = int(0.8 * len(X))\n",
    "X_train, y_train = X[:num_training], y[:num_training]\n",
    "X_test, y_test = X[num_training:], y[num_training:]"
   ]
  },
  {
   "cell_type": "markdown",
   "metadata": {},
   "source": [
    "(5) 现在已经可以拟合一个决策树回归模型了。选一个最大深度为4的决策树，这样可以限制决策树不变成任意深度："
   ]
  },
  {
   "cell_type": "code",
   "execution_count": 9,
   "metadata": {},
   "outputs": [
    {
     "data": {
      "text/plain": [
       "DecisionTreeRegressor(criterion='mse', max_depth=4, max_features=None,\n",
       "           max_leaf_nodes=None, min_impurity_decrease=0.0,\n",
       "           min_impurity_split=None, min_samples_leaf=1,\n",
       "           min_samples_split=2, min_weight_fraction_leaf=0.0,\n",
       "           presort=False, random_state=None, splitter='best')"
      ]
     },
     "execution_count": 9,
     "metadata": {},
     "output_type": "execute_result"
    }
   ],
   "source": [
    "dt_regressor = DecisionTreeRegressor(max_depth=4)\n",
    "dt_regressor.fit(X_train, y_train)"
   ]
  },
  {
   "cell_type": "code",
   "execution_count": 15,
   "metadata": {},
   "outputs": [
    {
     "data": {
      "text/plain": [
       "AdaBoostRegressor(base_estimator=DecisionTreeRegressor(criterion='mse', max_depth=4, max_features=None,\n",
       "           max_leaf_nodes=None, min_impurity_decrease=0.0,\n",
       "           min_impurity_split=None, min_samples_leaf=1,\n",
       "           min_samples_split=2, min_weight_fraction_leaf=0.0,\n",
       "           presort=False, random_state=None, splitter='best'),\n",
       "         learning_rate=1.0, loss='linear', n_estimators=400,\n",
       "         random_state=7)"
      ]
     },
     "execution_count": 15,
     "metadata": {},
     "output_type": "execute_result"
    }
   ],
   "source": [
    "#带AdaBoost算法的决策树回归模型进行拟合 #######例子缺少2行！\n",
    "ab_regressor = AdaBoostRegressor(DecisionTreeRegressor(max_depth=4),n_estimators=400,random_state=7)\n",
    "ab_regressor.fit(X_train, y_train)"
   ]
  },
  {
   "cell_type": "markdown",
   "metadata": {},
   "source": [
    "这样可以帮助我们对比训练效果，看看 AdaBoost 算法对决策树回归器的训练效果有多大改善。\n",
    "\n",
    "(7) 接下来评价决策树回归器的训练效果："
   ]
  },
  {
   "cell_type": "code",
   "execution_count": 11,
   "metadata": {},
   "outputs": [
    {
     "name": "stdout",
     "output_type": "stream",
     "text": [
      "#### Decision Tree performance ####\n",
      "Mean squared error = 14.79\n",
      "Explained variance score = 0.82\n"
     ]
    }
   ],
   "source": [
    "y_pred_dt = dt_regressor.predict(X_test)\n",
    "mse = mean_squared_error(y_test, y_pred_dt)\n",
    "evs = explained_variance_score(y_test, y_pred_dt)\n",
    "print( \"#### Decision Tree performance ####\")\n",
    "print( \"Mean squared error =\", round(mse, 2))\n",
    "print( \"Explained variance score =\", round(evs, 2))"
   ]
  },
  {
   "cell_type": "markdown",
   "metadata": {},
   "source": [
    "(8) 现在评价一下 AdaBoost 算法改善的效果："
   ]
  },
  {
   "cell_type": "code",
   "execution_count": 16,
   "metadata": {},
   "outputs": [
    {
     "name": "stdout",
     "output_type": "stream",
     "text": [
      "#### AdaBoost performance ####\n",
      "Mean squared error = 7.66\n",
      "Explained variance score = 0.91\n"
     ]
    }
   ],
   "source": [
    "y_pred_ab = ab_regressor.predict(X_test)\n",
    "mse = mean_squared_error(y_test, y_pred_ab)\n",
    "evs = explained_variance_score(y_test, y_pred_ab)\n",
    "print (\"#### AdaBoost performance ####\")\n",
    "print (\"Mean squared error =\", round(mse, 2))\n",
    "print (\"Explained variance score =\", round(evs, 2))"
   ]
  },
  {
   "cell_type": "markdown",
   "metadata": {},
   "source": [
    "(9) 命令行工具显示的输出结果如下所示："
   ]
  },
  {
   "cell_type": "code",
   "execution_count": null,
   "metadata": {},
   "outputs": [],
   "source": [
    "#### 决策树学习效果 ####\n",
    "Mean squared error = 14.79\n",
    "Explained variance score = 0.82\n",
    "#### AdaBoost算法改善效果 ####\n",
    "Mean squared error = 7.54\n",
    "Explained variance score = 0.91"
   ]
  },
  {
   "cell_type": "markdown",
   "metadata": {},
   "source": [
    "前面的结果表明，AdaBoost 算法可以让误差更小，且解释方差分更接近1。"
   ]
  },
  {
   "cell_type": "markdown",
   "metadata": {},
   "source": [
    "## 1.10　计算特征的相对重要性\n",
    "所有特征都同等重要吗？在这个案例中，我们用了13个特征，它们对模型都有贡献。但是，有一个重要的问题出现了：如何判断哪个特征更加重要？显然，所有的特征对结果的贡献是不一样的。如果需要忽略一些特征，就需要知道哪些特征不太重要。scikit-learn 里面有这样的功能。\n",
    "\n",
    "详细步骤\n",
    "\n",
    "(1) 画出特征的相对重要性，在 housing.py 文件中加入下面几行代码：\n"
   ]
  },
  {
   "cell_type": "markdown",
   "metadata": {},
   "source": [
    "回归器对象有一个feature_importances_方法会告诉我们每个特征的相对重要性。\n",
    "\n",
    "(2) 接下来需要定义plot_feature_importances来画出条形图："
   ]
  },
  {
   "cell_type": "code",
   "execution_count": 22,
   "metadata": {},
   "outputs": [],
   "source": [
    "def plot_feature_importances(feature_importances, title, feature_names):   \n",
    "    # 将重要性值标准化    \n",
    "    feature_importances = 100.0 * (feature_importances / max(feature_importances))    \n",
    "    # 将得分从高到低排序    \n",
    "    index_sorted = np.flipud(np.argsort(feature_importances))    \n",
    "    # 让X坐标轴上的标签居中显示    \n",
    "    pos = np.arange(index_sorted.shape[0]) + 0.5    \n",
    "    # 画条形图    \n",
    "    plt.figure()   \n",
    "    plt.bar(pos, feature_importances[index_sorted], align='center')    \n",
    "    plt.xticks(pos, feature_names[index_sorted])    \n",
    "    plt.ylabel('Relative Importance')    \n",
    "    plt.title(title)    \n",
    "    plt.show()\n",
    "    # return None # 另一个例子加上这行"
   ]
  },
  {
   "cell_type": "code",
   "execution_count": 23,
   "metadata": {
    "scrolled": true
   },
   "outputs": [
    {
     "data": {
      "image/png": "[encoded data removed]",
      "text/plain": [
       "<matplotlib.figure.Figure at 0x813dfd0>"
      ]
     },
     "metadata": {},
     "output_type": "display_data"
    },
    {
     "data": {
      "image/png": "[encoded data removed]",
      "text/plain": [
       "<matplotlib.figure.Figure at 0xaa34e48>"
      ]
     },
     "metadata": {},
     "output_type": "display_data"
    }
   ],
   "source": [
    "plot_feature_importances(dt_regressor.feature_importances_, 'Decision Tree regressor', housing_data.feature_names)\n",
    "plot_feature_importances(ab_regressor.feature_importances_, 'AdaBoost regressor', housing_data.feature_names)\n"
   ]
  },
  {
   "cell_type": "markdown",
   "metadata": {},
   "source": [
    "(3) 我们从 plot_feature_importances_方法里取值，然后把数值放大到0~100的范围内。运行前面的代码，可以看到两张图（不带 AdaBoost 算法与带 AdaBoost 算法两种模型）。仔细观察图1-8和图1-9，看看能从决策树回归器中获得什么。\n",
    "\n",
    "(4) 从图1-8可以发现，不带 AdaBoost 算法的决策树回归器显示的最重要特征是 RM。再看看带 AdaBoost 算法的决策树回归器的特征重要性排序条形图，如图1-9所示。\n",
    "\n",
    "加入 AdaBoost 算法之后，房屋估价模型的最重要特征是 LSTAT。在现实生活中，如果对这个数据集建立不同的回归器，就会发现最重要的特征是 LSTAT，这足以体现 AdaBoost 算法对决策树回归器训练效果的改善。"
   ]
  },
  {
   "cell_type": "markdown",
   "metadata": {},
   "source": [
    "## 1.11　评估共享单车的需求分布\n",
    "本节将用一种新的回归方法解决共享单车的需求分布问题。我们采用随机森林回归器（random forest regressor）估计输出结果。随机森林是一个决策树集合，它基本上就是用一组由数据集的若干子集构建的决策树构成，再用决策树平均值改善整体学习效果。\n",
    "\n",
    "### 1.11.1　准备工作\n",
    "我们将使用 bike_day.csv 文件中的数据集获取。这份数据集一共16列，前两列是序列号与日期，分析的时候可以不用；最后三列数据是不同类型的输出结果；最后一列是第十四列与第十五列的和，因此建立模型时可以不考虑第十四列与第十五列。\n",
    "\n",
    "### 1.11.2　详细步骤\n",
    "接下来看看 Python 如何解决这个问题。如果你下载了本书源代码，就可以看到 bike_sharing.py 文件里已经包含了完整代码。这里将介绍若干重要的部分。\n",
    "\n",
    "(1) 首先导入一些新的程序包，如下："
   ]
  },
  {
   "cell_type": "code",
   "execution_count": 4,
   "metadata": {},
   "outputs": [],
   "source": [
    "import csv\n",
    "from sklearn.ensemble import RandomForestRegressor\n",
    "from housing import plot_feature_importances\n",
    "import numpy as np"
   ]
  },
  {
   "cell_type": "markdown",
   "metadata": {},
   "source": [
    "(2) 我们需要处理 CSV 文件，因此加入了 csv 程序包来读取 CSV 文件。由于这是一个全新的数据集，因此需要自己定义一个数据集加载函数："
   ]
  },
  {
   "cell_type": "code",
   "execution_count": 193,
   "metadata": {},
   "outputs": [],
   "source": [
    "def load_dataset(filename):\n",
    "    file_reader = csv.reader(open(filename, 'r'),  delimiter=',')\n",
    "    X, y = [], []\n",
    "    for row in file_reader:\n",
    "        # X.append(row[3:13])  # 每行取第3到12列，第2列是日期。\n",
    "        X.append(row[3:15]) # 把第十四列与第十五列数据加入数据集，看看结果有什么区别。\n",
    "        y.append(row[-1])      # 目标是每行的最后1列。\n",
    "\n",
    "    # 提取特征名称\n",
    "    feature_names = np.array(X[0])  # 先看数据集，列名在第0行。\n",
    "\n",
    "    # 将第一行特征名称移除，仅保留数值\n",
    "    return np.array(X[1:]).astype(np.float32), np.array(y[1:]).astype(np.float32), feature_names"
   ]
  },
  {
   "cell_type": "code",
   "execution_count": 194,
   "metadata": {},
   "outputs": [],
   "source": [
    "X, y, feature_names = load_dataset(\"bike_day.csv\")    # (sys.argv[1]) # 直接读入bike_day.csv错误，只取有数值的7列bike_day_7.csv 通过。"
   ]
  },
  {
   "cell_type": "code",
   "execution_count": 24,
   "metadata": {},
   "outputs": [],
   "source": [
    "X, y, feature_names = load_dataset(\"boston_house_prices.csv\")    # (sys.argv[1]) # 直接读入bike_day.csv错误，只取有数值的7列bike_day_7.csv 通过。"
   ]
  },
  {
   "cell_type": "code",
   "execution_count": 195,
   "metadata": {},
   "outputs": [],
   "source": [
    "X, y = shuffle(X, y, random_state=7)"
   ]
  },
  {
   "cell_type": "markdown",
   "metadata": {},
   "source": [
    "在这个函数中，我们从 CSV 文件读取了所有数据。把数据显示在图形中时，特征名称非常有用。把特征名称数据从输入数值中分离出来，并作为函数返回值。\n",
    "\n",
    "(3) 读取数据，并打乱数据顺序，让新数据与原来文件中数据排列的顺序没有关联性："
   ]
  },
  {
   "cell_type": "code",
   "execution_count": 196,
   "metadata": {},
   "outputs": [
    {
     "data": {
      "text/plain": [
       "(731, 12)"
      ]
     },
     "execution_count": 196,
     "metadata": {},
     "output_type": "execute_result"
    }
   ],
   "source": [
    "X.shape"
   ]
  },
  {
   "cell_type": "markdown",
   "metadata": {},
   "source": [
    "(4) 和之前的做法一样，需要将数据分成训练数据和测试数据。这一次，我们将90%的数据用于训练，剩余10%的数据用于测试："
   ]
  },
  {
   "cell_type": "code",
   "execution_count": 197,
   "metadata": {},
   "outputs": [],
   "source": [
    "num_training = int(0.9 * len(X))\n",
    "X_train, y_train = X[:num_training], y[:num_training]\n",
    "X_test, y_test = X[num_training:], y[num_training:]"
   ]
  },
  {
   "cell_type": "markdown",
   "metadata": {},
   "source": [
    "(5) 下面开始训练回归器："
   ]
  },
  {
   "cell_type": "code",
   "execution_count": 198,
   "metadata": {},
   "outputs": [
    {
     "data": {
      "text/plain": [
       "RandomForestRegressor(bootstrap=True, criterion='mse', max_depth=10,\n",
       "           max_features='auto', max_leaf_nodes=None,\n",
       "           min_impurity_decrease=0.0, min_impurity_split=None,\n",
       "           min_samples_leaf=1, min_samples_split=2,\n",
       "           min_weight_fraction_leaf=0.0, n_estimators=1000, n_jobs=None,\n",
       "           oob_score=False, random_state=None, verbose=0, warm_start=False)"
      ]
     },
     "execution_count": 198,
     "metadata": {},
     "output_type": "execute_result"
    }
   ],
   "source": [
    "rf_regressor = RandomForestRegressor(n_estimators=1000, max_depth=10, min_samples_split=2) # 原 =1错误\n",
    "rf_regressor.fit(X_train, y_train)"
   ]
  },
  {
   "cell_type": "markdown",
   "metadata": {},
   "source": [
    "其中，参数n_estimators是指评估器（estimator）的数量，表示随机森林需要使用的决策树数量；参数max_depth是指每个决策树的最大深度；参数min_samples_split是指决策树分裂一个节点需要用到的最小数据样本量。\n",
    "\n",
    "(6) 评价随机森林回归器的训练效果："
   ]
  },
  {
   "cell_type": "code",
   "execution_count": 199,
   "metadata": {},
   "outputs": [
    {
     "name": "stdout",
     "output_type": "stream",
     "text": [
      "#### Random Forest regressor performance ####\n",
      "Mean squared error = 233685.45\n",
      "Explained variance score = 0.93\n"
     ]
    }
   ],
   "source": [
    "y_pred = rf_regressor.predict(X_test)\n",
    "mse = mean_squared_error(y_test, y_pred)\n",
    "evs = explained_variance_score(y_test, y_pred)\n",
    "print( \"#### Random Forest regressor performance ####\")\n",
    "print( \"Mean squared error =\", round(mse, 2))\n",
    "print( \"Explained variance score =\", round(evs, 2))"
   ]
  },
  {
   "cell_type": "markdown",
   "metadata": {},
   "source": [
    "(7) 由于已经有画出特征重要性条形图的函数plot_feature_importances了，接下来直接调用它："
   ]
  },
  {
   "cell_type": "code",
   "execution_count": 200,
   "metadata": {
    "scrolled": false
   },
   "outputs": [
    {
     "data": {
      "image/png": "[encoded data removed]",
      "text/plain": [
       "<matplotlib.figure.Figure at 0x17598f98>"
      ]
     },
     "metadata": {},
     "output_type": "display_data"
    }
   ],
   "source": [
    "plot_feature_importances(rf_regressor.feature_importances_, 'Random Forest regressor', feature_names)"
   ]
  },
  {
   "cell_type": "markdown",
   "metadata": {},
   "source": [
    "图　1-10\n",
    "\n",
    "看来温度（temp）是影响自行车租赁的最重要因素。\n",
    "\n",
    "### 1.11.3　更多内容\n",
    "把第十四列与第十五列数据加入数据集，看看结果有什么区别。在新的特征重要性条形图中，除了这两个特征外，其他特征都变成了0。这是由于输出结果可以通过简单地对第十四列与第十五列数据求和得出，因此算法不需要其他特征计算结果。在数据集加载函数load_dataset中，我们需要对for循环内的取值范围稍作调整："
   ]
  },
  {
   "cell_type": "code",
   "execution_count": null,
   "metadata": {},
   "outputs": [],
   "source": [
    "X.append(row[2:15])"
   ]
  },
  {
   "cell_type": "code",
   "execution_count": null,
   "metadata": {},
   "outputs": [],
   "source": [
    "现在再画出特征重要性条形图，可以看到如图1-11所示的柱形图。\n",
    "图　1-11\n",
    "\n",
    "与预想的一样，从图中可以看出，只有这两个特征是重要的，这确实也符合常理，因为最终结果仅仅是这两个特征相加得到的。因此，这两个变量与输出结果有直接的关系，回归器也就认为它不需要其他特征来预测结果了。在消除数据集冗余变量方面，这是非常有用的工具。\n",
    "\n",
    "还有一份按小时统计的自行车共享数据bike_hour.csv。我们需要用到第3~14列，因此先对数据集加载函数load_dataset做一点调整：\n",
    "\n",
    "X.append(row[2:14])"
   ]
  },
  {
   "cell_type": "code",
   "execution_count": 180,
   "metadata": {
    "scrolled": false
   },
   "outputs": [
    {
     "name": "stdout",
     "output_type": "stream",
     "text": [
      "\n",
      "#### Random Forest regressor performance ####\n",
      "Mean squared error = 0.35\n",
      "Explained variance score = 0.74\n"
     ]
    },
    {
     "data": {
      "image/png": "[encoded data removed]",
      "text/plain": [
       "<matplotlib.figure.Figure at 0x9a4b780>"
      ]
     },
     "metadata": {},
     "output_type": "display_data"
    }
   ],
   "source": [
    "# bike_sharing.py\n",
    "import sys\n",
    "import csv\n",
    "\n",
    "import numpy as np\n",
    "from sklearn.ensemble import RandomForestRegressor \n",
    "from sklearn import preprocessing\n",
    "from sklearn.metrics import mean_squared_error, explained_variance_score\n",
    "from sklearn.utils import shuffle\n",
    "import matplotlib.pyplot as plt\n",
    "\n",
    "from housing import plot_feature_importances\n",
    "\n",
    "def load_dataset(filename):\n",
    "    file_reader = csv.reader(open(filename, 'r'), delimiter=',')\n",
    "    X, y = [], []\n",
    "    for row in file_reader:\n",
    "        X.append(row[1:8]) # 数据0列是序号，9列是目标值房价，取1~8列。取少了过拟合，误差0，得分1。\n",
    "        y.append(row[-1])   # 取列需要根据数据集的情况决定特征值 X 的列数。\n",
    "\n",
    "    # Extract feature names\n",
    "    feature_names = np.array(X[0]) # 特征的名称在第0行，分析结果时用。\n",
    "\n",
    "    # Remove the first row because they are feature names\n",
    "    return np.array(X[1:]).astype(np.float32), np.array(y[1:]).astype(np.float32), feature_names\n",
    "\n",
    "if __name__=='__main__':\n",
    "    # Load the dataset from the input file\n",
    "    \"\"\"\n",
    "    from sklearn.datasets.california_housing import fetch_california_housing\n",
    "    housing=fetch_california_housing()\n",
    "    X = housing.data\n",
    "    y = housing.target\n",
    "     该数据包含9个变量的20640个观测值，\n",
    "     该数据集包含平均房屋价值作为目标变量和以下输入变量（特征）：\n",
    "     平均收入、房屋平均年龄、平均房间、平均卧室、人口、平均占用、纬度和经度。\n",
    "     ['MedInc',  'HouseAge', 'AveRooms', 'AveBedrms', 'Population',\n",
    "      'AveOccup', 'Latitude', 'Longitude', 'target']\n",
    "    \"\"\"    \n",
    "    X, y, feature_names = load_dataset(\"housing_t.csv\") # (\"bike_day.csv\") # (sys.argv[1])\n",
    "    # 程序可以分析其它数据集，\n",
    "    X, y = shuffle(X, y, random_state=7) \n",
    "\n",
    "    # Split the data 80/20 (80% for training, 20% for testing)\n",
    "    num_training = int(0.9 * len(X))\n",
    "    X_train, y_train = X[:num_training], y[:num_training]\n",
    "    X_test, y_test = X[num_training:], y[num_training:]\n",
    "\n",
    "    # Fit Random Forest regression model\n",
    "    rf_regressor = RandomForestRegressor(n_estimators=1000, max_depth=10, min_samples_split=2)\n",
    "    rf_regressor.fit(X_train, y_train)\n",
    "\n",
    "    # Evaluate performance of Random Forest regressor\n",
    "    y_pred = rf_regressor.predict(X_test)\n",
    "    mse = mean_squared_error(y_test, y_pred)\n",
    "    evs = explained_variance_score(y_test, y_pred) \n",
    "    print (\"\\n#### Random Forest regressor performance ####\")\n",
    "    print (\"Mean squared error =\", round(mse, 2))\n",
    "    print (\"Explained variance score =\", round(evs, 2))\n",
    "\n",
    "    # Plot relative feature importances \n",
    "    plot_feature_importances(rf_regressor.feature_importances_, 'Random Forest regressor', feature_names)\n"
   ]
  },
  {
   "cell_type": "code",
   "execution_count": 177,
   "metadata": {},
   "outputs": [],
   "source": [
    "#  我的数据预处理程序\n",
    "# 做成适合随机森林回归算法所需的数据集：\n",
    "# 具有列名，前部列是特征列，最后1列是目标值，用逗号分隔的.csv文件。\n",
    "# 供bike_sharing.py使用。\n",
    "# 读取导入的数据集，合并data和 target ,\n",
    "# 加上数据集,命名为 housing里的特征名 housing.feaure_names，\n",
    "# 保存为 .csv文件。\n",
    "\n",
    "# 读取数据集\n",
    "from sklearn.datasets.california_housing import fetch_california_housing\n",
    "housing=fetch_california_housing()\n",
    "housing # 数据集描述\n",
    "X = housing.data\n",
    "y = housing.target\n",
    "X.shape\n",
    "y.shape\n",
    "# 读取特征名\n",
    "names = housing.feature_names\n",
    "# 追加目标特征名\n",
    "names.append('target')\n",
    "\n",
    "# 合并DataFrame\n",
    "import pandas as pd\n",
    "X = pd.DataFrame(housing.data)\n",
    "y = pd.DataFrame(housing.target)\n",
    "\n",
    "# 合并 X和 y成为 df\n",
    "df = pd.concat([X, y], axis=1)\n",
    "# 保存文件\n",
    "df.to_csv(filename, header=names)\n"
   ]
  },
  {
   "cell_type": "code",
   "execution_count": 17,
   "metadata": {
    "scrolled": true
   },
   "outputs": [
    {
     "name": "stdout",
     "output_type": "stream",
     "text": [
      "a = 0.39\n",
      "b = 2.91\n",
      "y = 0.39 * X + 2.91 \n"
     ]
    },
    {
     "data": {
      "image/png": "[encoded data removed]",
      "text/plain": [
       "<matplotlib.figure.Figure at 0xb435390>"
      ]
     },
     "metadata": {},
     "output_type": "display_data"
    }
   ],
   "source": [
    "# 求解线性回归方程的系数 y = a*X + b 用最小二乘法\n",
    "# 我的练习\n",
    "# 1.4 线形回归器\n",
    "#regressor.py with datafile data_singlevar.txt\n",
    "import sys\n",
    "import numpy as np\n",
    "import pandas as pd\n",
    "import matplotlib.pyplot as plt\n",
    "\n",
    "filename = sys.argv[1]\n",
    "X = []\n",
    "y = []\n",
    "with open(\"data_singlevar.txt\", 'r') as f:\n",
    "    for line in f.readlines():\n",
    "        xt, yt = [float(i) for i in line.split(',')]\n",
    "        X.append(xt)\n",
    "        y.append(yt)\n",
    "\n",
    "#2.为了检验机器学习模型是否达到满意度，将数据分为训练和测试2组\n",
    "# Train/test split\n",
    "num_training = int(0.8 * len(X))\n",
    "num_test = len(X) - num_training\n",
    "# Training data 准备数据\n",
    "X_train = np.array(X[:num_training]).reshape((num_training,1))\n",
    "y_train = np.array(y[:num_training])\n",
    "\n",
    "#3.已经准备好了训练模型，创建回归器对象\n",
    "from sklearn import linear_model # 导入线性模块。\n",
    "linear_regressor = linear_model.LinearRegression() # 命名回归器，定义模型为线性回归。\n",
    "# Train the model using the training sets\n",
    "linear_regressor.fit(X_train, y_train) # 用训练数据训练拟合回归器。\n",
    "y_train_pred = linear_regressor.predict(X_train) #4.检查拟合，\n",
    "# 使用拟合过的拟合器对训练数据预测结果。\n",
    "\n",
    "# 求解线性回归方程的系数 y = a*X + b 最小二乘法\n",
    "X = pd.DataFrame(X_train)\n",
    "y = pd.DataFrame(y_train)\n",
    "df = pd.concat([X, y], axis=1)\n",
    "X_sum, y_sum = df.sum(axis=0)\n",
    "X_mean, y_mean = df.mean()\n",
    "X_mean, y_mean\n",
    "Xy_mean = (X*y).mean()\n",
    "XX_mean = (X*X).mean()\n",
    "# 系数\n",
    "a = (X_mean*y_mean - Xy_mean) / (X_mean*X_mean - XX_mean)\n",
    "b = y_mean - a*X_mean\n",
    "print('a = %3.2f'%a)\n",
    "print('b = %3.2f'%b)\n",
    "print('y = %3.2f ' %a + '* X + %3.2f ' %b)\n",
    "# out: a = 0.39    b = 2.91    y = 0.39 * X + 2.91 \n",
    "\n",
    "# 验证回归系数\n",
    "import matplotlib.pyplot as plt\n",
    "plt.figure()\n",
    "plt.scatter(X_train, y_train, color='green') # 原始数据\n",
    "plt.plot(X, a*X+b, color='black', linewidth=5) # 最小二乘法的回归线\n",
    "plt.plot(X, y_train_pred, color='red', linewidth=1) # 预测的回归线\n",
    "plt.title('Original Data Point & Two Regression Line')\n",
    "plt.show()\n",
    "# 由图可见，最小二乘法和线性回归预测的结果相符。"
   ]
  },
  {
   "cell_type": "code",
   "execution_count": 26,
   "metadata": {},
   "outputs": [
    {
     "data": {
      "image/png": "[encoded data removed]",
      "text/plain": [
       "<matplotlib.figure.Figure at 0xac050f0>"
      ]
     },
     "metadata": {},
     "output_type": "display_data"
    },
    {
     "data": {
      "image/png": "[encoded data removed]",
      "text/plain": [
       "<matplotlib.figure.Figure at 0xb407940>"
      ]
     },
     "metadata": {},
     "output_type": "display_data"
    },
    {
     "name": "stdout",
     "output_type": "stream",
     "text": [
      "Mean absolute error 平均误差= 0.54\n",
      "Mean squared error 均方误差= 0.38\n",
      "Median absolute error 中位数绝对误差= 0.54\n",
      "Explain variance score 解释方差分best 1= 0.68\n",
      "R2 score R方得分，相关系数best 1= 0.68\n",
      "\n",
      "Linear regression:\n",
      " [3.06649462]\n",
      "(1, 20)\n",
      "(5, 4)\n",
      "\n",
      "Polynomial regression:\n",
      " [ 3.04922632  3.39118583 28.08520341  4.23858245 26.94022106]\n",
      "\n",
      "SGD regressor:\n",
      " [0.43046297 0.62927301 0.98946023]\n"
     ]
    },
    {
     "name": "stderr",
     "output_type": "stream",
     "text": [
      "C:\\Users\\user\\Anaconda3\\lib\\site-packages\\sklearn\\linear_model\\stochastic_gradient.py:117: DeprecationWarning: n_iter parameter is deprecated in 0.19 and will be removed in 0.21. Use max_iter and tol instead.\n",
      "  DeprecationWarning)\n"
     ]
    }
   ],
   "source": [
    "# 1.7 岭回归器\n",
    "#regressor.py \n",
    "import numpy as np\n",
    "import matplotlib.pyplot as plt\n",
    "\"\"\"\n",
    "import utilities\n",
    "# Load input data\n",
    "input_file = \"data_multivar01_X4.txt\"\n",
    "X, y = utilities.load_data(input_file)\n",
    "\"\"\"\n",
    "filename = \"data_singlevar.txt\" #sys.argv[1]#\"data_multivar01_X4.txt\"#\n",
    "X = []\n",
    "y = []\n",
    "with open(filename, 'r') as f:\n",
    "    for line in f.readlines():\n",
    "        xt, yt = [float(i) for i in line.split(',')]\n",
    "        X.append(xt)\n",
    "        y.append(yt)\n",
    "\n",
    "#2.为了检验机器学习模型是否达到满意度，将数据分为训练和测试2组\n",
    "# Train/test split\n",
    "num_training = int(0.8 * len(X))\n",
    "num_test = len(X) - num_training\n",
    "\n",
    "# Training data\n",
    "X_train = np.array(X[:num_training]).reshape((num_training,1))\n",
    "y_train = np.array(y[:num_training])\n",
    "\n",
    "# Test data\n",
    "X_test = np.array(X[num_training:]).reshape((num_test,1))\n",
    "y_test = np.array(y[num_training:])\n",
    "\n",
    "#3.已经准备好了训练模型，创建回归器对象\n",
    "# Create linear regression object\n",
    "from sklearn import linear_model\n",
    "\n",
    "linear_regressor = linear_model.LinearRegression()\n",
    "\n",
    "#用训练数据集训练线形回归器，向fit方法输入数据即可\n",
    "# Train the model using the training sets\n",
    "linear_regressor.fit(X_train, y_train)\n",
    "\n",
    "#4.检查拟合\n",
    "y_train_pred = linear_regressor.predict(X_train)\n",
    "\n",
    "# Plot outputs\n",
    "import matplotlib.pyplot as plt\n",
    "plt.figure()\n",
    "plt.scatter(X_train, y_train, color='green')\n",
    "plt.plot(X_train, y_train_pred, color='black', linewidth=4)\n",
    "plt.title('Training data')\n",
    "plt.show()\n",
    "\n",
    "\n",
    "# Predict the output\n",
    "y_test_pred = linear_regressor.predict(X_test)\n",
    "\n",
    "plt.scatter(X_test, y_test, color='green')\n",
    "plt.plot(X_test, y_test_pred, color='black', linewidth=4)\n",
    "plt.title('Test data')\n",
    "plt.show()\n",
    "\n",
    "# Measure performance\n",
    "import sklearn.metrics as sm\n",
    "\n",
    "ridge_regressor = linear_model.Ridge(alpha=0.01, fit_intercept=True, max_iter=10000)\n",
    "ridge_regressor.fit(X_train, y_train)\n",
    "y_test_pred_ridge = ridge_regressor.predict(X_test)\n",
    "print ( \"Mean absolute error 平均误差=\", round(sm.mean_absolute_error(y_test, y_test_pred), 2) )\n",
    "print ( \"Mean squared error 均方误差=\", round(sm.mean_squared_error(y_test, y_test_pred), 2) )\n",
    "print ( \"Median absolute error 中位数绝对误差=\", round(sm.median_absolute_error(y_test, y_test_pred), 2)) \n",
    "print ( \"Explain variance score 解释方差分best 1=\", round(sm.explained_variance_score(y_test, y_test_pred), 2)) \n",
    "print ( \"R2 score R方得分，相关系数best 1=\", round(sm.r2_score(y_test, y_test_pred), 2))\n",
    "\n",
    "# Polynomial regression\n",
    "# 1.8 多项式回归\n",
    "from sklearn.preprocessing import PolynomialFeatures\n",
    "\n",
    "polynomial = PolynomialFeatures(degree=3)\n",
    "#3次多项式\n",
    "X_train_transformed = polynomial.fit_transform(X_train)\n",
    "\n",
    "#数据第一点测试\n",
    "datapoint = [0.39,2.78,7.11]\n",
    "poly_datapoint = polynomial.fit_transform([datapoint])\n",
    "\n",
    "#例 input_data_encoded = input_data_encoded.reshape(1, len(input_data))\n",
    "#poly_datapoint = poly_datapoint.reshape(1,len(poly_datapoint))\n",
    "\n",
    "poly_linear_model = linear_model.LinearRegression()\n",
    "poly_linear_model.fit(X_train_transformed, y_train)\n",
    "\n",
    "print (\"\\nLinear regression:\\n\", linear_regressor.predict(datapoint[0]))\n",
    "print(poly_datapoint.shape) # 测试用\n",
    "poly_datapoint = np.reshape(poly_datapoint,(5,-1))\n",
    "print(poly_datapoint.shape) # 测试用\n",
    "print (\"\\nPolynomial regression:\\n\", poly_linear_model.predict(poly_datapoint))\n",
    "\n",
    "# Stochastic Gradient Descent regressor\n",
    "sgd_regressor = linear_model.SGDRegressor(loss='huber', n_iter=50)\n",
    "sgd_regressor.fit(X_train, y_train)\n",
    "datapoint = np.reshape(datapoint,(3,1))# 根据错误提示增加的,由(1,3)转为(3,1)\n",
    "print (\"\\nSGD regressor:\\n\", sgd_regressor.predict(datapoint))"
   ]
  },
  {
   "cell_type": "code",
   "execution_count": null,
   "metadata": {},
   "outputs": [],
   "source": [
    "# Polynomial regression\n",
    "# 1.8 多项式回归\n",
    "# Polynomial regression\n",
    "import numpy as np\n",
    "from sklearn import neighbors, datasets\n",
    "from sklearn.preprocessing import PolynomialFeatures\n",
    "\n",
    "polynomial = PolynomialFeatures(degree=10)\n",
    "X_train_transformed = polynomial.fit_transform(X_train)\n",
    "datapoint = [0.39,2.78,7.11]\n",
    "poly_datapoint = polynomial.fit_transform(datapoint)\n",
    "\n",
    "poly_linear_model = linear_model.LinearRegression()\n",
    "poly_linear_model.fit(X_train_transformed, y_train)\n",
    "print (\"\\nLinear regression:\\n\", linear_regressor.predict(datapoint))\n",
    "print (\"\\nPolynomial regression:\\n\", poly_linear_model.predict(poly_datapoint))\n",
    "\n",
    "# Stochastic Gradient Descent regressor\n",
    "sgd_regressor = linear_model.SGDRegressor(loss='huber', n_iter=50)\n",
    "sgd_regressor.fit(X_train, y_train)\n",
    "print (\"\\nSGD regressor:\\n\", sgd_regressor.predict(datapoint))\n",
    "\n",
    "\"\"\"\n",
    "以上是原文\n",
    "from sklearn.preprocessing import PolynomialFeatures\n",
    "\n",
    "polynomial = PolynomialFeatures(degree=3)\n",
    "#3次多项式\n",
    "X_train_transformed = polynomial.fit_transform(X_train)\n",
    "#数据第一点测试\n",
    "\n",
    "datapoint = [0.39,2.78,7.11]\n",
    "poly_datapoint = polynomial.fit_transform([datapoint])\n",
    "\n",
    "#例 input_data_encoded = input_data_encoded.reshape(1, len(input_data))\n",
    "#poly_datapoint = poly_datapoint.reshape(1,len(poly_datapoint))\n",
    "\n",
    "poly_linear_model = linear_model.LinearRegression()\n",
    "poly_linear_model.fit(X_train_transformed, y_train)\n",
    "\n",
    "print (\"\\nLinear regression:\\n\", linear_regressor.predict((datapoint)[0]))\n",
    "\n",
    "print(poly_datapoint.shape)\n",
    "print(poly_datapoint)\n",
    "poly_datapoint = poly_datapoint.reshape(1,len([poly_datapoint]))\n",
    "print (\"\\nPolynomial regression:\\n\", poly_linear_model.predict((poly_datapoint)[0]))\n",
    "\"\"\""
   ]
  },
  {
   "cell_type": "code",
   "execution_count": 21,
   "metadata": {},
   "outputs": [
    {
     "name": "stdout",
     "output_type": "stream",
     "text": [
      "\n",
      "#### Decision Tree performance决策树回归器的学习效果 ####\n",
      "Mean squared error均方误差 = 14.79\n",
      "Explained variance score解释方差分 = 0.82\n",
      "\n",
      "#### AdaBoost performance自适应增强算法的改善 ####\n",
      "Mean squared error = 7.64\n",
      "Explained variance score = 0.91\n"
     ]
    },
    {
     "data": {
      "image/png": "[encoded data removed]",
      "text/plain": [
       "<matplotlib.figure.Figure at 0xa90bbe0>"
      ]
     },
     "metadata": {},
     "output_type": "display_data"
    },
    {
     "data": {
      "image/png": "[encoded data removed]",
      "text/plain": [
       "<matplotlib.figure.Figure at 0xac358d0>"
      ]
     },
     "metadata": {},
     "output_type": "display_data"
    }
   ],
   "source": [
    "#housing.py\n",
    "# 1.9 估算房屋价格\n",
    "import numpy as np\n",
    "from sklearn.ensemble import RandomForestRegressor, AdaBoostRegressor\n",
    "from sklearn.tree import DecisionTreeRegressor\n",
    "from sklearn import datasets\n",
    "from sklearn.metrics import mean_squared_error, explained_variance_score\n",
    "from sklearn.utils import shuffle\n",
    "\n",
    "import matplotlib.pyplot as plt\n",
    "\n",
    "def plot_feature_importances(feature_importances, title, feature_names):\n",
    "    # Normalize the importance values 重要性标准化\n",
    "    feature_importances = 100.0 * (feature_importances / max(feature_importances))\n",
    "\n",
    "    # Sort the values and flip them 索引从高到低排序\n",
    "    index_sorted = np.flipud(np.argsort(feature_importances))\n",
    "\n",
    "    # Arrange the X ticks\n",
    "    pos = np.arange(index_sorted.shape[0]) + 0.5\n",
    "\n",
    "    # Plot the bar graph\n",
    "    plt.figure()\n",
    "    plt.bar(pos, feature_importances[index_sorted], align='center')\n",
    "    plt.xticks(pos, feature_names[index_sorted])\n",
    "    plt.ylabel('Relative Importance')\n",
    "    plt.title(title)\n",
    "    plt.show()\n",
    "\n",
    "if __name__=='__main__':\n",
    "    # Load housing data\n",
    "    housing_data = datasets.load_boston() \n",
    "    \n",
    "    #print(housing_data)如何保存？用model pickle显示\n",
    "    \"\"\"\n",
    "    import pickle as pickle\n",
    "    output_model_file = 'saved_model.pkl'#'3_model_linear_regr.pkl'\n",
    "\n",
    "     75 with open(output_model_file, 'w') as f:\n",
    "---> 76     pickle.dump(linear_regressor, f)\n",
    "     77 \n",
    "     78 with open(output_model_file, 'r') as f:\n",
    "\n",
    "TypeError: write() argument must be str, not bytes\n",
    "    \"\"\"\n",
    "    \n",
    "    # Shuffle the data\n",
    "    X, y = shuffle(housing_data.data, housing_data.target, random_state=7)\n",
    "\n",
    "    # Split the data 80/20 (80% for training, 20% for testing)\n",
    "    num_training = int(0.8 * len(X))\n",
    "    X_train, y_train = X[:num_training], y[:num_training]\n",
    "    X_test, y_test = X[num_training:], y[num_training:]\n",
    "\n",
    "    # Fit decision tree regression model\n",
    "    dt_regressor = DecisionTreeRegressor(max_depth=4)\n",
    "    dt_regressor.fit(X_train, y_train)\n",
    "\n",
    "    # Fit decision tree regression model with AdaBoost\n",
    "    ab_regressor = AdaBoostRegressor(DecisionTreeRegressor(max_depth=4), n_estimators=400, random_state=7)\n",
    "    ab_regressor.fit(X_train, y_train)\n",
    "\n",
    "    # Evaluate performance of Decision Tree regressor\n",
    "    y_pred_dt = dt_regressor.predict(X_test)\n",
    "    mse = mean_squared_error(y_test, y_pred_dt)\n",
    "    evs = explained_variance_score(y_test, y_pred_dt) \n",
    "    print (\"\\n#### Decision Tree performance决策树回归器的学习效果 ####\")\n",
    "    print (\"Mean squared error均方误差 =\", round(mse, 2))\n",
    "    print (\"Explained variance score解释方差分 =\", round(evs, 2))\n",
    "\n",
    "    # Evaluate performance of AdaBoost\n",
    "    y_pred_ab = ab_regressor.predict(X_test)\n",
    "    mse = mean_squared_error(y_test, y_pred_ab)\n",
    "    evs = explained_variance_score(y_test, y_pred_ab) \n",
    "    print (\"\\n#### AdaBoost performance自适应增强算法的改善 ####\")\n",
    "    print (\"Mean squared error =\", round(mse, 2))\n",
    "    print (\"Explained variance score =\", round(evs, 2))\n",
    "    \n",
    "    #画出特征的相对重要性\n",
    "    # Plot relative feature importances \n",
    "    plot_feature_importances(dt_regressor.feature_importances_, \n",
    "            'Decision Tree regressor', housing_data.feature_names)\n",
    "    plot_feature_importances(ab_regressor.feature_importances_, \n",
    "            'AdaBoost regressor', housing_data.feature_names)\n",
    "    #使用adaboost以后重要性不同RM->LTAT"
   ]
  },
  {
   "cell_type": "code",
   "execution_count": 217,
   "metadata": {
    "scrolled": false
   },
   "outputs": [
    {
     "name": "stdout",
     "output_type": "stream",
     "text": [
      "\n",
      "#### Random Forest regressor performance ####\n",
      "Mean squared error = 228944.98\n",
      "Explained variance score = 0.93\n"
     ]
    },
    {
     "data": {
      "image/png": "[encoded data removed]",
      "text/plain": [
       "<matplotlib.figure.Figure at 0x17853f60>"
      ]
     },
     "metadata": {},
     "output_type": "display_data"
    }
   ],
   "source": [
    "# bike_sharing.py\n",
    "# 1.11 评估共享单车的需求分布\n",
    "import sys\n",
    "import csv\n",
    "\n",
    "import numpy as np\n",
    "from sklearn.ensemble import RandomForestRegressor \n",
    "from sklearn import preprocessing\n",
    "from sklearn.metrics import mean_squared_error, explained_variance_score\n",
    "from sklearn.utils import shuffle\n",
    "import matplotlib.pyplot as plt\n",
    "\n",
    "from housing import plot_feature_importances\n",
    "def load_dataset(filename):\n",
    "    file_reader = csv.reader(open(filename, 'r'), delimiter=',')\n",
    "    X, y = [], []\n",
    "    for row in file_reader:\n",
    "        X.append(row[3:15]) # old [3:13] 改变使用的特征将改变影响预测结果的特征因素。\n",
    "        y.append(row[-1])\n",
    "\n",
    "    # Extract feature names\n",
    "    feature_names = np.array(X[0])\n",
    "\n",
    "    # Remove the first row because they are feature names\n",
    "    return np.array(X[1:]).astype(np.float32), np.array(y[1:]).astype(np.float32), feature_names\n",
    "\n",
    "if __name__=='__main__':\n",
    "    # Load the dataset from the input file\n",
    "    X, y, feature_names = load_dataset('bike_day.csv')  # ('bike_day.csv')# (bike_hour.csv)#(sys.argv[1])\n",
    "    X, y = shuffle(X, y, random_state=7) \n",
    "\n",
    "    # Split the data 80/20 (80% for training, 20% for testing)\n",
    "    num_training = int(0.9 * len(X))\n",
    "    X_train, y_train = X[:num_training], y[:num_training]\n",
    "    X_test, y_test = X[num_training:], y[num_training:]\n",
    "\n",
    "    # Fit Random Forest regression model\n",
    "    rf_regressor = RandomForestRegressor(n_estimators=1000, max_depth=10, min_samples_split=2)\n",
    "    rf_regressor.fit(X_train, y_train)\n",
    "\n",
    "    # Evaluate performance of Random Forest regressor\n",
    "    y_pred = rf_regressor.predict(X_test)\n",
    "    mse = mean_squared_error(y_test, y_pred)\n",
    "    evs = explained_variance_score(y_test, y_pred) \n",
    "    print (\"\\n#### Random Forest regressor performance ####\")\n",
    "    print (\"Mean squared error =\", round(mse, 2))\n",
    "    print (\"Explained variance score =\", round(evs, 2))\n",
    "\n",
    "    # Plot relative feature importances \n",
    "    plot_feature_importances(rf_regressor.feature_importances_, 'Random Forest regressor', feature_names)\n"
   ]
  },
  {
   "cell_type": "markdown",
   "metadata": {},
   "source": [
    "$$a = \\frac{\\bar{X}\\bar{Y} - \\widehat{XY}}{(\\bar{X})^2 - \\widetilde{X^2}} $$,\n",
    "$$b = \\bar{Y} - a\\bar{X}$$"
   ]
  },
  {
   "attachments": {
    "%E7%BA%BF%E6%80%A7%E5%9B%9E%E5%BD%92%E5%85%AC%E5%BC%8F.png": {
     "image/png": "[encoded data removed]"
    }
   },
   "cell_type": "markdown",
   "metadata": {},
   "source": [
    "![%E7%BA%BF%E6%80%A7%E5%9B%9E%E5%BD%92%E5%85%AC%E5%BC%8F.png](attachment:%E7%BA%BF%E6%80%A7%E5%9B%9E%E5%BD%92%E5%85%AC%E5%BC%8F.png)"
   ]
  },
  {
   "cell_type": "code",
   "execution_count": null,
   "metadata": {},
   "outputs": [],
   "source": []
  }
 ],
 "metadata": {
  "kernelspec": {
   "display_name": "Python 3",
   "language": "python",
   "name": "python3"
  },
  "language_info": {
   "codemirror_mode": {
    "name": "ipython",
    "version": 3
   },
   "file_extension": ".py",
   "mimetype": "text/x-python",
   "name": "python",
   "nbconvert_exporter": "python",
   "pygments_lexer": "ipython3",
   "version": "3.6.4"
  }
 },
 "nbformat": 4,
 "nbformat_minor": 2
}
